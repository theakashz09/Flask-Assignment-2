{
  "nbformat": 4,
  "nbformat_minor": 0,
  "metadata": {
    "colab": {
      "provenance": []
    },
    "kernelspec": {
      "name": "python3",
      "display_name": "Python 3"
    },
    "language_info": {
      "name": "python"
    }
  },
  "cells": [
    {
      "cell_type": "code",
      "execution_count": null,
      "metadata": {
        "id": "G7hsMH4sUQMn"
      },
      "outputs": [],
      "source": []
    },
    {
      "cell_type": "markdown",
      "source": [
        "Q1. Explain GET and POST methods.\n",
        "Ans= GET is used for retrieving data like searching, filtering, or paging, whereas POST is used for submitting forms, modifying data, or creating new resources. Besides this, these two methods differ from each other in terms of parameters such as data transmission, data size, data type, security, idempotency, and use cases"
      ],
      "metadata": {
        "id": "3IZoFvxMUVxt"
      }
    },
    {
      "cell_type": "code",
      "source": [],
      "metadata": {
        "id": "83AqsBjFUd-G"
      },
      "execution_count": null,
      "outputs": []
    },
    {
      "cell_type": "markdown",
      "source": [
        "Q2. Why is request used in Flask?\n",
        "Ans = In Flask, the request object is used to access data sent by the client to the server as part of an HTTP request. This data can include:\n",
        "Form data: Data submitted through HTML forms.\n",
        "URL parameters: Data passed in the URL.\n",
        "Headers: Information about the request itself (e.g., browser type, user agent).\n",
        "Cookies: Small pieces of data stored on the client's machine.\n",
        "File uploads: Files sent by the client."
      ],
      "metadata": {
        "id": "grD0tsnEUeaB"
      }
    },
    {
      "cell_type": "markdown",
      "source": [
        "Q3. Why is redirect() used in Flask?\n",
        "Ans = ​​The redirect() function in the Flask class redirects the user to a specified URL with the provided status code. An HTTP status code is the server's response to the browser's request."
      ],
      "metadata": {
        "id": "i8kBchRTUzWc"
      }
    },
    {
      "cell_type": "markdown",
      "source": [
        "Q4. What are templates in Flask? Why is the render_template() function used?\n",
        "Ans = In Flask,templates are essentially HTML files that contain both static content and placeholders for dynamic data, allowing you to generate customized web pages by injecting variables from your Python code; the \"render_template()\" function is used to take these template files and dynamically render them into a complete HTML response that can be sent to the user's browser, effectively combining the static template with the provided data"
      ],
      "metadata": {
        "id": "WpfpwfVHVRdo"
      }
    },
    {
      "cell_type": "markdown",
      "source": [],
      "metadata": {
        "id": "2tEjmxhrVonO"
      }
    }
  ]
}